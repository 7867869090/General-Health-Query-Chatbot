{
  "nbformat": 4,
  "nbformat_minor": 0,
  "metadata": {
    "colab": {
      "provenance": []
    },
    "kernelspec": {
      "name": "python3",
      "display_name": "Python 3"
    },
    "language_info": {
      "name": "python"
    }
  },
  "cells": [
    {
      "cell_type": "code",
      "execution_count": null,
      "metadata": {
        "colab": {
          "base_uri": "https://localhost:8080/"
        },
        "id": "f_iZyk2OegXF",
        "outputId": "42c7d3e1-816b-4198-810d-35ae4650f638"
      },
      "outputs": [
        {
          "output_type": "stream",
          "name": "stdout",
          "text": [
            "Requirement already satisfied: requests in /usr/local/lib/python3.11/dist-packages (2.32.3)\n",
            "Requirement already satisfied: python-dotenv in /usr/local/lib/python3.11/dist-packages (1.1.1)\n",
            "Requirement already satisfied: huggingface_hub in /usr/local/lib/python3.11/dist-packages (0.34.3)\n",
            "Requirement already satisfied: charset-normalizer<4,>=2 in /usr/local/lib/python3.11/dist-packages (from requests) (3.4.2)\n",
            "Requirement already satisfied: idna<4,>=2.5 in /usr/local/lib/python3.11/dist-packages (from requests) (3.10)\n",
            "Requirement already satisfied: urllib3<3,>=1.21.1 in /usr/local/lib/python3.11/dist-packages (from requests) (2.5.0)\n",
            "Requirement already satisfied: certifi>=2017.4.17 in /usr/local/lib/python3.11/dist-packages (from requests) (2025.8.3)\n",
            "Requirement already satisfied: filelock in /usr/local/lib/python3.11/dist-packages (from huggingface_hub) (3.18.0)\n",
            "Requirement already satisfied: fsspec>=2023.5.0 in /usr/local/lib/python3.11/dist-packages (from huggingface_hub) (2025.3.0)\n",
            "Requirement already satisfied: packaging>=20.9 in /usr/local/lib/python3.11/dist-packages (from huggingface_hub) (25.0)\n",
            "Requirement already satisfied: pyyaml>=5.1 in /usr/local/lib/python3.11/dist-packages (from huggingface_hub) (6.0.2)\n",
            "Requirement already satisfied: tqdm>=4.42.1 in /usr/local/lib/python3.11/dist-packages (from huggingface_hub) (4.67.1)\n",
            "Requirement already satisfied: typing-extensions>=3.7.4.3 in /usr/local/lib/python3.11/dist-packages (from huggingface_hub) (4.14.1)\n",
            "Requirement already satisfied: hf-xet<2.0.0,>=1.1.3 in /usr/local/lib/python3.11/dist-packages (from huggingface_hub) (1.1.7)\n"
          ]
        }
      ],
      "source": [
        "!pip install requests python-dotenv huggingface_hub"
      ]
    },
    {
      "cell_type": "code",
      "source": [
        "!huggingface-cli login"
      ],
      "metadata": {
        "colab": {
          "base_uri": "https://localhost:8080/"
        },
        "id": "ZJ7koLs-evH8",
        "outputId": "d4f1f542-4620-471c-abd6-9bb6a4cd4ffb"
      },
      "execution_count": null,
      "outputs": [
        {
          "output_type": "stream",
          "name": "stdout",
          "text": [
            "\u001b[33m⚠️  Warning: 'huggingface-cli login' is deprecated. Use 'hf auth login' instead.\u001b[0m\n",
            "\n",
            "    _|    _|  _|    _|    _|_|_|    _|_|_|  _|_|_|  _|      _|    _|_|_|      _|_|_|_|    _|_|      _|_|_|  _|_|_|_|\n",
            "    _|    _|  _|    _|  _|        _|          _|    _|_|    _|  _|            _|        _|    _|  _|        _|\n",
            "    _|_|_|_|  _|    _|  _|  _|_|  _|  _|_|    _|    _|  _|  _|  _|  _|_|      _|_|_|    _|_|_|_|  _|        _|_|_|\n",
            "    _|    _|  _|    _|  _|    _|  _|    _|    _|    _|    _|_|  _|    _|      _|        _|    _|  _|        _|\n",
            "    _|    _|    _|_|      _|_|_|    _|_|_|  _|_|_|  _|      _|    _|_|_|      _|        _|    _|    _|_|_|  _|_|_|_|\n",
            "\n",
            "    A token is already saved on your machine. Run `hf auth whoami` to get more information or `hf auth logout` if you want to log out.\n",
            "    Setting a new token will erase the existing one.\n",
            "    To log in, `huggingface_hub` requires a token generated from https://huggingface.co/settings/tokens .\n",
            "Enter your token (input will not be visible): \n",
            "Add token as git credential? (Y/n) n\n",
            "Token is valid (permission: read).\n",
            "The token `Asad Ali Arshad` has been saved to /root/.cache/huggingface/stored_tokens\n",
            "Your token has been saved to /root/.cache/huggingface/token\n",
            "Login successful.\n",
            "The current active token is: `Asad Ali Arshad`\n"
          ]
        }
      ]
    },
    {
      "cell_type": "code",
      "source": [
        "import os\n",
        "from huggingface_hub import InferenceClient\n",
        "\n",
        "client = InferenceClient(\n",
        "    provider=\"featherless-ai\",\n",
        ")\n",
        "\n",
        "completion = client.chat.completions.create(\n",
        "    model=\"mistralai/Mistral-7B-Instruct-v0.2\",\n",
        "    messages=[\n",
        "        {\n",
        "            \"role\": \"user\",\n",
        "            \"content\": \"What is the capital of France?\"\n",
        "        }\n",
        "    ],\n",
        ")\n",
        "\n",
        "print(completion.choices[0].message.content)"
      ],
      "metadata": {
        "colab": {
          "base_uri": "https://localhost:8080/"
        },
        "id": "LZrBFJDTfAdL",
        "outputId": "c7643745-8920-4ebb-d710-025bcfbf12ee"
      },
      "execution_count": null,
      "outputs": [
        {
          "output_type": "stream",
          "name": "stdout",
          "text": [
            " The capital city of France is Paris. Paris is one of the most famous cities in the world and is known for its iconic landmarks such as the Eiffel Tower, the Louvre Museum, and Notre-Dame Cathedral. It is also known for its rich history, art, culture, and fashion. Paris has been the capital city of France since the late 13th century.\n"
          ]
        }
      ]
    },
    {
      "cell_type": "markdown",
      "metadata": {
        "id": "41b11757"
      },
      "source": [
        "# Task\n",
        "Create a Python script that builds a general health query chatbot using the \"mistralai/Mistral-7B-Instruct-v0.2\" model. The chatbot should use prompt engineering to act as a helpful medical assistant, provide friendly and clear responses, and include basic safety filters to avoid giving harmful medical advice. The script should allow the user to input queries and receive responses."
      ]
    },
    {
      "cell_type": "markdown",
      "metadata": {
        "id": "fdeffffe"
      },
      "source": [
        "## **Define the prompt**\n",
        "\n"
      ]
    },
    {
      "cell_type": "markdown",
      "metadata": {
        "id": "9de07698"
      },
      "source": [
        "\n",
        "Create a system message string variable with instructions for the LLM to act as a helpful medical assistant and provide general health information while avoiding specific medical advice.\n",
        "\n"
      ]
    },
    {
      "cell_type": "code",
      "metadata": {
        "colab": {
          "base_uri": "https://localhost:8080/"
        },
        "id": "7b106629",
        "outputId": "703c4ea7-1337-4fb7-e5e8-abaad320a30b"
      },
      "source": [
        "system_message = \"\"\"\n",
        "You are a helpful and friendly general health information assistant. Your purpose is to provide clear and easy-to-understand information about general health topics.\n",
        "\n",
        "IMPORTANT GUIDELINES:\n",
        "1. Do NOT provide specific medical diagnoses, treatment plans, or personalized medical advice.\n",
        "2. Do NOT recommend or endorse specific medications, therapies, or healthcare providers.\n",
        "3. Always emphasize that the information you provide is for general knowledge only and should not be considered a substitute for professional medical advice.\n",
        "4. Strongly recommend that the user consult with a qualified healthcare professional for any health concerns, diagnosis, or treatment.\n",
        "5. Provide responses that are friendly, clear, and based on widely accepted general health knowledge.\n",
        "6. If a query is asking for specific medical advice or diagnosis, politely reiterate your role as a general information assistant and the importance of consulting a doctor.\n",
        "\"\"\"\n",
        "print(system_message)"
      ],
      "execution_count": null,
      "outputs": [
        {
          "output_type": "stream",
          "name": "stdout",
          "text": [
            "\n",
            "You are a helpful and friendly general health information assistant. Your purpose is to provide clear and easy-to-understand information about general health topics.\n",
            "\n",
            "IMPORTANT GUIDELINES:\n",
            "1. Do NOT provide specific medical diagnoses, treatment plans, or personalized medical advice.\n",
            "2. Do NOT recommend or endorse specific medications, therapies, or healthcare providers.\n",
            "3. Always emphasize that the information you provide is for general knowledge only and should not be considered a substitute for professional medical advice.\n",
            "4. Strongly recommend that the user consult with a qualified healthcare professional for any health concerns, diagnosis, or treatment.\n",
            "5. Provide responses that are friendly, clear, and based on widely accepted general health knowledge.\n",
            "6. If a query is asking for specific medical advice or diagnosis, politely reiterate your role as a general information assistant and the importance of consulting a doctor.\n",
            "\n"
          ]
        }
      ]
    },
    {
      "cell_type": "markdown",
      "metadata": {
        "id": "abfbe67e"
      },
      "source": [
        "## **Implement the chatbot logic**\n",
        "\n",
        "Create a function  that takes a user query, combines it with the system message, and sends it to the LLM using the existing `InferenceClient`.\n"
      ]
    },
    {
      "cell_type": "code",
      "metadata": {
        "id": "40d71c64"
      },
      "source": [
        "def get_chatbot_response(user_query: str, system_message: str) -> str:\n",
        "    \"\"\"\n",
        "    Sends a user query and system message to the LLM and returns the response.\n",
        "\n",
        "    Args:\n",
        "        user_query: The user's health query.\n",
        "        system_message: The system message to guide the LLM's behavior.\n",
        "\n",
        "    Returns:\n",
        "        The chatbot's response string.\n",
        "    \"\"\"\n",
        "    messages = [\n",
        "        {\"role\": \"system\", \"content\": system_message},\n",
        "        {\"role\": \"user\", \"content\": user_query}\n",
        "    ]\n",
        "\n",
        "    completion = client.chat.completions.create(\n",
        "        model=\"mistralai/Mistral-7B-Instruct-v0.2\",\n",
        "        messages=messages,\n",
        "    )\n",
        "\n",
        "    return completion.choices[0].message.content\n",
        "\n"
      ],
      "execution_count": null,
      "outputs": []
    },
    {
      "cell_type": "code",
      "source": [
        "# Example usage (optional, for testing the function)\n",
        "test_query = \"What are the symptoms of the common cold?\"\n",
        "response = get_chatbot_response(test_query, system_message)\n",
        "print(\"\\nChatbot Response:\")\n",
        "print(response)"
      ],
      "metadata": {
        "colab": {
          "base_uri": "https://localhost:8080/"
        },
        "id": "SU42P09IjwTG",
        "outputId": "a9bb52ef-3674-4445-aded-f43ca7005599"
      },
      "execution_count": null,
      "outputs": [
        {
          "output_type": "stream",
          "name": "stdout",
          "text": [
            "\n",
            "Chatbot Response:\n",
            " The common cold is a viral infection that affects the nose and throat. Symptoms can vary from person to person, but here are some of the most common signs:\n",
            "\n",
            "1. Runny or stuffy nose\n",
            "2. Sore throat\n",
            "3. Cough\n",
            "4. Congestion\n",
            "5. Headache\n",
            "6. Sneezing\n",
            "7. Low-grade fever (below 101 degrees Fahrenheit)\n",
            "8. Body aches\n",
            "9. Fatigue and weakness\n",
            "\n",
            "These symptoms typically last for about a week. However, it's important to remember that everyone's experience with the common cold can be different, and some may have more severe symptoms. If you're feeling unwell or have concerns about your health, please consult with a qualified healthcare professional for personalized advice.\n"
          ]
        }
      ]
    },
    {
      "cell_type": "markdown",
      "metadata": {
        "id": "ddfa1156"
      },
      "source": [
        "## **Add safety filters**\n",
        "\n",
        "Implement basic checks on the LLM's response to identify and potentially flag or rephrase content that sounds like specific medical advice.\n"
      ]
    },
    {
      "cell_type": "code",
      "metadata": {
        "id": "7c2c02a7"
      },
      "source": [
        "import re\n",
        "\n",
        "def filter_response(response: str) -> str:\n",
        "    \"\"\"\n",
        "    Filters the chatbot response for potentially harmful medical advice.\n",
        "\n",
        "    Args:\n",
        "        response: The raw chatbot response string.\n",
        "\n",
        "    Returns:\n",
        "        The original response or a warning message if potentially harmful content is detected.\n",
        "    \"\"\"\n",
        "    # Basic patterns to look for specific medical advice\n",
        "    # This is a simplified example and should not be considered a robust medical filter\n",
        "    medical_advice_patterns = [\n",
        "        r\"take \\d+.*(?:milligrams|mg)\", # Mentions dosage\n",
        "        r\"use .* (?:for|to treat) .* condition\", # Suggests treatment for a condition\n",
        "        r\"apply .* (?:to|on) affected area\", # Suggests topical application\n",
        "        r\"consult your doctor about .*\", # While often good advice, in combination might suggest specific course\n",
        "        r\"you should .*\", # Directive language\n",
        "        r\"it is recommended to .*\", # Recommendation language\n",
        "        r\"prescription .*\", # Mentions prescriptions\n",
        "        r\"over-the-counter .*\", # Mentions over-the-counter drugs\n",
        "    ]\n",
        "\n",
        "    warning_message = \"Please consult a qualified healthcare professional for medical advice, diagnosis, or treatment. The information provided here is for general knowledge only.\"\n",
        "\n",
        "    for pattern in medical_advice_patterns:\n",
        "        if re.search(pattern, response, re.IGNORECASE):\n",
        "            return warning_message\n",
        "\n",
        "    return response\n",
        "\n"
      ],
      "execution_count": null,
      "outputs": []
    },
    {
      "cell_type": "code",
      "source": [
        "# Example usage (optional, for testing the function)\n",
        "test_responses = [\n",
        "    \"You should take 500 milligrams of ibuprofen for your headache.\",\n",
        "    \"Apply this ointment to the affected area twice a day.\",\n",
        "    \"It is recommended to consult your doctor about this symptom.\",\n",
        "    \"The common cold usually resolves within a week.\",\n",
        "    \"Getting enough sleep is important for your health.\",\n",
        "]\n",
        "\n",
        "print(\"Filtering test responses:\")\n",
        "for res in test_responses:\n",
        "    filtered_res = filter_response(res)\n",
        "    print(f\"Original: {res}\")\n",
        "    print(f\"Filtered: {filtered_res}\\n\")"
      ],
      "metadata": {
        "colab": {
          "base_uri": "https://localhost:8080/"
        },
        "id": "Ot3oO94BkB1X",
        "outputId": "7d90c1f2-9421-45b6-cf55-3d1caecbd8c4"
      },
      "execution_count": null,
      "outputs": [
        {
          "output_type": "stream",
          "name": "stdout",
          "text": [
            "Filtering test responses:\n",
            "Original: You should take 500 milligrams of ibuprofen for your headache.\n",
            "Filtered: Please consult a qualified healthcare professional for medical advice, diagnosis, or treatment. The information provided here is for general knowledge only.\n",
            "\n",
            "Original: Apply this ointment to the affected area twice a day.\n",
            "Filtered: Apply this ointment to the affected area twice a day.\n",
            "\n",
            "Original: It is recommended to consult your doctor about this symptom.\n",
            "Filtered: Please consult a qualified healthcare professional for medical advice, diagnosis, or treatment. The information provided here is for general knowledge only.\n",
            "\n",
            "Original: The common cold usually resolves within a week.\n",
            "Filtered: The common cold usually resolves within a week.\n",
            "\n",
            "Original: Getting enough sleep is important for your health.\n",
            "Filtered: Getting enough sleep is important for your health.\n",
            "\n"
          ]
        }
      ]
    },
    {
      "cell_type": "markdown",
      "metadata": {
        "id": "056b3aa2"
      },
      "source": [
        "## **User interface**\n",
        "\n"
      ]
    },
    {
      "cell_type": "code",
      "metadata": {
        "colab": {
          "base_uri": "https://localhost:8080/"
        },
        "id": "3b57fd22",
        "outputId": "46704748-98d9-427f-d53f-66107563b097"
      },
      "source": [
        "while True:\n",
        "    user_query = input(\"Enter your health query (or type 'quit' to exit): \")\n",
        "\n",
        "    if user_query.lower() == 'quit' or user_query.lower() == 'exit':\n",
        "        break\n",
        "\n",
        "    raw_response = get_chatbot_response(user_query, system_message)\n",
        "    filtered_response = filter_response(raw_response)\n",
        "    print(\"\\nChatbot Response:\")\n",
        "    print(filtered_response)\n",
        "    print(\"-\" * 30) # Separator for clarity"
      ],
      "execution_count": null,
      "outputs": [
        {
          "name": "stdout",
          "output_type": "stream",
          "text": [
            "Enter your health query (or type 'quit' to exit): What causes a sore throat?\n",
            "\n",
            "Chatbot Response:\n",
            " A sore throat can be caused by a variety of factors. Some common causes include:\n",
            "\n",
            "1. Viruses, such as the flu or common cold\n",
            "2. Bacteria, such as streptococcus, which can cause strep throat\n",
            "3. Irritants, such as acid reflux, smoking, or pollution\n",
            "4. Allergens, such as pollen or pet dander\n",
            "5. Dry air or excessive talking or singing\n",
            "\n",
            "Symptoms of a sore throat can include pain or discomfort when swallowing, redness or swelling of the throat, and a scratchy, itchy, or hoarse feeling in the throat. If you're experiencing a sore throat and it's accompanied by other symptoms like fever, body aches, or a cough, it's important to consult with a healthcare professional. They can help determine the underlying cause and provide appropriate treatment. Remember, the information I provide is meant for general knowledge only and should not be used in place of professional medical advice.\n",
            "------------------------------\n",
            "Enter your health query (or type 'quit' to exit): quit\n"
          ]
        }
      ]
    },
    {
      "cell_type": "markdown",
      "metadata": {
        "id": "2ac4bfb1"
      },
      "source": [
        "## **Summary:**\n",
        "\n",
        "*   A system message was successfully created to instruct the LLM to act as a helpful medical assistant, emphasizing the provision of general health information and the importance of consulting healthcare professionals.\n",
        "*   A Python function `get_chatbot_response` was successfully developed to send user queries and the system message to the specified LLM (\"mistralai/Mistral-7B-Instruct-v0.2\") and retrieve its response.\n",
        "*   A basic `filter_response` function was implemented using regular expressions to detect patterns that might indicate specific medical advice and return a warning message if found.\n",
        "*   A simple user interface loop was created to allow continuous interaction, taking user input, processing it through the chatbot functions, and displaying the filtered response."
      ]
    }
  ]
}